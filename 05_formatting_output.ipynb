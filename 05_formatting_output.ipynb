{
 "cells": [
  {
   "cell_type": "markdown",
   "metadata": {},
   "source": [
    "# Python for Digital Humanities"
   ]
  },
  {
   "cell_type": "markdown",
   "metadata": {},
   "source": [
    "## Unit #3: Input/Output\n",
    "\n",
    "* Printing Output\n",
    "* Prompting User for Input\n",
    "* Formatting Output\n",
    "\n",
    "<font color=blue>---------------------------------------------------------------</font>"
   ]
  },
  {
   "cell_type": "markdown",
   "metadata": {},
   "source": [
    "## 5. Input/Output\n",
    "\n",
    "Programs are not very useful if they cannot communicate their results to the user or if they do not allow users to provide specific inputs.\n",
    "\n",
    "### 5.1 Printing Output\n",
    "\n",
    "We have already seen the `print` statement (e.g., ```print(\"Hello World\")```.  We also can include multiple items in the print statement.  For example:  \n",
    "```\n",
    "Month = \"December\"\n",
    "Day = 2\n",
    "Year = 2019\n",
    "print(\"The date is\", Day, Month, Year, \".\")\n",
    "```\n",
    "\n",
    "<font color=blue>---------------------------------------------------------------</font>"
   ]
  },
  {
   "cell_type": "markdown",
   "metadata": {},
   "source": [
    "\n",
    "\n",
    "### 5.2 Prompting User for Input\n",
    "\n",
    "If we want the user to input information by typing it on the keyboard, we can use the `input` command.  The general format of the command is as follows:\n",
    "\n",
    "```variable = input(\"Some prompt to tell the user what to input:  \")```\n",
    "\n",
    "For example:\n",
    "```\n",
    "name = input(\"Please enter your name:  \")\n",
    "print(\"Hello\", name)\n",
    "```\n",
    "Or, for the printing, some people prefer an _f string_ to embed a variable in a print statement:\n",
    "\n",
    "```\n",
    "name=input(\"Please enter your name:  \")\n",
    "print(f'Hello {name}, how are you doing?')\n",
    "```\n",
    "\n",
    "Finally, we could put a placeholder in for our variable and attach the variable in a _format_ function:\n",
    "\n",
    "```\n",
    "name = input(\"Please enter your name:  \")\n",
    "print(\"Hello {}, how are you doing?\".format(name))\n",
    "```\n",
    "\n",
    "\n",
    "<font color=blue>---------------------------------------------------------------</font>"
   ]
  },
  {
   "cell_type": "markdown",
   "metadata": {},
   "source": [
    "\n",
    "\n",
    "### 5.3 Formatting Output \n",
    "\n",
    "We often want (or need) more control over the format of the output, especially when writing the decimal places for numeric values.  \n",
    "\n",
    "\n",
    "To format data, we must use _*format strings*_.  These are encoded notations which inform the computer how we want to modify the format.  \n",
    "\n",
    "#### Formatting Floating Point Numbers (numbers with decimal places)\n",
    "For numeric values, we use **%F.wf**, where \n",
    "* F is the total number of spaces reserved for the output (it will be replaced with a number), \n",
    "* w is the number of digits to the right of the decimal point (it will be replaced with a number), \n",
    "* f is code for \"floating point number\".\n",
    "\n",
    "For example, if we want to allow 8 spaces for a number, and include only 3 decimal places, we could type: **{:8.3f}**.\n"
   ]
  },
  {
   "cell_type": "code",
   "execution_count": 1,
   "metadata": {},
   "outputs": [
    {
     "name": "stdout",
     "output_type": "stream",
     "text": [
      "The result is    3.142.\n"
     ]
    }
   ],
   "source": [
    "print(\"The result is {:8.3f}.\".format(3.14159))"
   ]
  },
  {
   "cell_type": "markdown",
   "metadata": {},
   "source": [
    "Notice that there is a big gap between the word `is` and the number `3`.  The number `3.142` only occupies 5 spaces (4 digits and 1 decimal point). Because we told the computer that we wanted 8 spaces for the number, it put the 5 characters to the far right of the given spaces (i.e., right-justified), leaving 3 blank spaces to the left of the number.\n",
    "\n",
    "This justification is good if we have multiple items that we want to line up according to the decimal place."
   ]
  },
  {
   "cell_type": "code",
   "execution_count": 2,
   "metadata": {},
   "outputs": [
    {
     "name": "stdout",
     "output_type": "stream",
     "text": [
      "      Total Expenses      \n",
      "Airfare:     678.59\n",
      "Lodging:    1100.00\n",
      "Meals:       124.68\n"
     ]
    }
   ],
   "source": [
    "plane = 678.59\n",
    "hotel = 4 * 275.00\n",
    "food = 4 * 31.17\n",
    "\n",
    "print(\"      Total Expenses      \")\n",
    "print(\"Airfare: {:10.2f}\".format(plane))\n",
    "print(\"Lodging: {:10.2f}\".format(hotel))\n",
    "print(\"Meals:   {:10.2f}\".format(food))"
   ]
  },
  {
   "cell_type": "markdown",
   "metadata": {},
   "source": [
    "If we are printing sentences, instead of tables of information, we can let Python handle the total number of spaces by not giving it a value for F."
   ]
  },
  {
   "cell_type": "code",
   "execution_count": 3,
   "metadata": {},
   "outputs": [
    {
     "name": "stdout",
     "output_type": "stream",
     "text": [
      "The hotel, which cost $1100.00, was more expensive than the airfare, at $678.59.\n"
     ]
    }
   ],
   "source": [
    "print(\"The hotel, which cost ${:.2f}, was more expensive than the airfare, at ${:.2f}.\".format(hotel, plane))"
   ]
  },
  {
   "cell_type": "markdown",
   "metadata": {},
   "source": [
    "<font color=blue>---------------------------------------------------------------</font>\n",
    "\n",
    "### What about formatting strings or integers?\n",
    "\n",
    "These are actually easier -- use %s for strings and %d for integers.\n",
    "\n",
    "You can include an integer between the percent sign and the letter to specify the number of spaces that you want to use.   For example %12s will allow 12 spaces for a string.\n",
    "\n",
    "Without the integer, Python will decide on the spacing."
   ]
  },
  {
   "cell_type": "code",
   "execution_count": 4,
   "metadata": {},
   "outputs": [
    {
     "name": "stdout",
     "output_type": "stream",
     "text": [
      "I published my paper, 'The Decline of Human Speech', in 2013.\n"
     ]
    }
   ],
   "source": [
    "myPaper = \"The Decline of Human Speech\"\n",
    "year = 2013\n",
    "print(\"I published my paper, '{:s}', in {:d}.\".format(myPaper, year))\n"
   ]
  },
  {
   "cell_type": "markdown",
   "metadata": {},
   "source": [
    "<font color=blue>---------------------------------------------------------------</font>\n",
    "\n",
    "## Activity:  Formatting a table\n",
    "\n",
    "1. In a previous example, we saw the following code:\n",
    "```\n",
    " plane = 678.59\n",
    " hotel = 4 * 275.00\n",
    " food = 4 * 31.17\n",
    "\n",
    " print(\"      Total Expenses      \")\n",
    " print(\"Airfare: {:10.2f}\".format(plane))\n",
    " print(\"Lodging: {:10.2f}\".format(hotel))\n",
    " print(\"Meals:   {:10.2f}\".format(food))\n",
    "```\n",
    "\n",
    "On the last 3 lines, I used spaces after the colons to ensure that the 10 reserved spaces for the numbers aligned correctly.  Edit the formatting so that 8 spaces are reserved for the labels (e.g., Airfare, Lodging, and Meals).\n",
    "\n",
    "Hint:  Use `{:8s}` for the string formatting.\n",
    "    \n",
    "<font color=blue>---------------------------------------------------------------</font>"
   ]
  }
 ],
 "metadata": {
  "anaconda-cloud": {},
  "kernelspec": {
   "display_name": "Python 3",
   "language": "python",
   "name": "python3"
  },
  "language_info": {
   "codemirror_mode": {
    "name": "ipython",
    "version": 3
   },
   "file_extension": ".py",
   "mimetype": "text/x-python",
   "name": "python",
   "nbconvert_exporter": "python",
   "pygments_lexer": "ipython3",
   "version": "3.7.3"
  }
 },
 "nbformat": 4,
 "nbformat_minor": 1
}
