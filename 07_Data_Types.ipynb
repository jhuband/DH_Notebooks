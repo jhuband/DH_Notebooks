{
 "cells": [
  {
   "cell_type": "markdown",
   "metadata": {},
   "source": [
    "# Python for Digital Humanities"
   ]
  },
  {
   "cell_type": "markdown",
   "metadata": {},
   "source": [
    "## Unit #7: Data Types\n",
    "\n",
    "* Strings\n",
    "* Lists\n",
    "* Sets\n",
    "* Dictionaries\n",
    "* Tuples\n",
    "\n",
    "<font color=blue>---------------------------------------------------------------</font>"
   ]
  },
  {
   "cell_type": "markdown",
   "metadata": {},
   "source": [
    "In a previous unit, we talked a little bit about variables and how they can hold information.  We saw how a variable can hold an entire text from a file as a string.  In that case, the _data type_ of the variable was a string.  \n",
    "\n",
    "There are many more data types in Python.  Each data type comes with its own set of tools that will work on it or be applied to it.  Think about it -- if your data type is _numeric_, you would want to be able to manipulate by adding, subtracting, multiplying, or dividing its value.  But, these operations may not make sense if your data type is a string.  For strings, we may want to concatenate two strings or convert a string to all lower case.\n",
    "\n",
    "Other data types that we will study are lists, sets, dictionaries and tuples."
   ]
  },
  {
   "cell_type": "markdown",
   "metadata": {},
   "source": [
    "## 7.1  Strings and String Methods\n",
    "\n",
    "We know that we can have variables that hold a string.  Now let's see what we can do with strings.\n",
    "\n",
    "#### Splitting strings on characters:\n",
    "```\n",
    "phone = \"434-924-1812\"\n",
    "print(phone.split('-'))\n",
    "```\n",
    "#### Concatenating strings:\n",
    "```\n",
    "area_code = \"(434)\"\n",
    "number = \"924-1812\"\n",
    "phone = area_code + number\n",
    "print(phone)\n",
    "```\n",
    "#### Counting occurrences of substrings\n",
    "```\n",
    "with open('austen-emma-excerpt.txt') as infile:\n",
    "      text = infile.read()\n",
    "\n",
    "print(text.count(\"her\"))\n",
    "```\n",
    "\n",
    "#### Converting to all lower case\n",
    "```\n",
    "print(text.lower())\n",
    "```\n",
    "\n",
    "#### Performing consecutive operations\n",
    "```\n",
    "print(text.lower().count('her'))\n",
    "```\n",
    "\n",
    "Question: Can we change a letter in a string?"
   ]
  },
  {
   "cell_type": "code",
   "execution_count": 1,
   "metadata": {
    "scrolled": true
   },
   "outputs": [
    {
     "name": "stdout",
     "output_type": "stream",
     "text": [
      "P\n"
     ]
    },
    {
     "ename": "TypeError",
     "evalue": "'str' object does not support item assignment",
     "output_type": "error",
     "traceback": [
      "\u001b[1;31m---------------------------------------------------------------------------\u001b[0m",
      "\u001b[1;31mTypeError\u001b[0m                                 Traceback (most recent call last)",
      "\u001b[1;32m<ipython-input-1-875f4a4febcc>\u001b[0m in \u001b[0;36m<module>\u001b[1;34m\u001b[0m\n\u001b[0;32m      1\u001b[0m \u001b[0mtitle\u001b[0m \u001b[1;33m=\u001b[0m \u001b[1;34m\"Harry Potter and the Chamber of Secrets\"\u001b[0m\u001b[1;33m\u001b[0m\u001b[1;33m\u001b[0m\u001b[0m\n\u001b[0;32m      2\u001b[0m \u001b[0mprint\u001b[0m\u001b[1;33m(\u001b[0m\u001b[0mtitle\u001b[0m\u001b[1;33m[\u001b[0m\u001b[1;36m6\u001b[0m\u001b[1;33m]\u001b[0m\u001b[1;33m)\u001b[0m\u001b[1;33m\u001b[0m\u001b[1;33m\u001b[0m\u001b[0m\n\u001b[1;32m----> 3\u001b[1;33m \u001b[0mtitle\u001b[0m\u001b[1;33m[\u001b[0m\u001b[1;36m6\u001b[0m\u001b[1;33m]\u001b[0m\u001b[1;33m=\u001b[0m\u001b[1;34m'p'\u001b[0m\u001b[1;33m\u001b[0m\u001b[1;33m\u001b[0m\u001b[0m\n\u001b[0m",
      "\u001b[1;31mTypeError\u001b[0m: 'str' object does not support item assignment"
     ]
    }
   ],
   "source": [
    "title = \"Harry Potter and the Chamber of Secrets\"\n",
    "print(title[6])\n",
    "title[6]='p'\n"
   ]
  },
  {
   "cell_type": "markdown",
   "metadata": {},
   "source": [
    "There are two things wrong with what we tried to do above.  \n",
    "\n",
    "* First, strings are **immutable** -- they cannot be changed.  But, we can overwrite a string with the changes that we want to make.\n",
    "* Instead of re-assigning a letter (i.e., `title[6]='p'`), we need to 'replace' the letter:\n",
    "\n",
    "\n"
   ]
  },
  {
   "cell_type": "code",
   "execution_count": 2,
   "metadata": {},
   "outputs": [
    {
     "name": "stdout",
     "output_type": "stream",
     "text": [
      "Harry Potter and the Chamber of Secrets\n",
      "Harry potter and the Chamber of Secrets\n"
     ]
    }
   ],
   "source": [
    "title = \"Harry Potter and the Chamber of Secrets\"\n",
    "title.replace('P', 'p')\n",
    "print(title)\n",
    "\n",
    "title = title.replace('P', 'p')\n",
    "print(title)\n",
    "\n"
   ]
  },
  {
   "cell_type": "markdown",
   "metadata": {},
   "source": [
    "We do need to be careful with the 'replace' method -- it will replace all occurrences of a letter:"
   ]
  },
  {
   "cell_type": "code",
   "execution_count": 1,
   "metadata": {},
   "outputs": [
    {
     "name": "stdout",
     "output_type": "stream",
     "text": [
      "Harry Pottar and tha Chambar of Sacrats\n"
     ]
    }
   ],
   "source": [
    "title = \"Harry Potter and the Chamber of Secrets\"\n",
    "\n",
    "print(title.replace('e', 'a'))\n"
   ]
  },
  {
   "cell_type": "markdown",
   "metadata": {},
   "source": [
    "## 7.2 Lists and List Methods\n",
    "\n",
    "A list is a collection of ordered items. For example, it could be a collection of your favorite authors:\n",
    "\n",
    "``` \n",
    "favorite_authors = ['Shakespeare', 'Dostoevsky', 'Twain']\n",
    "```\n",
    "Or, a list of groceries:\n",
    "```\n",
    "groceries = ['milk', 'bread', 'bananas', 'chocolate', 'more chocolate']\n",
    "```\n",
    "Or, your locker combination from high school:\n",
    "```\n",
    "locker_combo = [25, 36, 3]\n",
    "```\n",
    "\n",
    "The notation for a list is the items, separated by commas, and enclosed by square brackets:\n",
    "``` \n",
    "list_name = [item1, item2, item3, item4, item5]\n",
    "```\n",
    "\n",
    "If the items are numeric, they do not need to be surrounded by quotes.  Strings do need the quotes.\n",
    "We can have as many items as we need in a list (assuming the data can be held within memory.\n",
    "\n",
    "One of the best features of lists is that we can have mixed data types (e.g., strings and numbers and other lists).\n",
    "```\n",
    "mylist = ['Tom Hanks', 64, \n",
    "           ['Apollo 13', 'Toy Story', 'Forest Gump', 'A League of Their Own', 'Big'] ]\n",
    "```\n",
    "\n",
    "You can access the items by indexing into the list.  (However, Python starts counting with 0.)\n"
   ]
  },
  {
   "cell_type": "code",
   "execution_count": 2,
   "metadata": {},
   "outputs": [
    {
     "name": "stdout",
     "output_type": "stream",
     "text": [
      "Tom Hanks is 64 years old and starred in \"Apollo 13\".\n"
     ]
    }
   ],
   "source": [
    "mylist = ['Tom Hanks', 64, \n",
    "           ['Apollo 13', 'Toy Story', 'Forest Gump', 'A League of Their Own', 'Big'] ]\n",
    "name = mylist[0]\n",
    "age = mylist[1]\n",
    "movies = mylist[2]\n",
    "print(f'{name} is {age} years old and starred in \"{movies[0]}\".')"
   ]
  },
  {
   "cell_type": "markdown",
   "metadata": {},
   "source": [
    "#### Lists are mutable.\n",
    "They can be changed or expanded.\n"
   ]
  },
  {
   "cell_type": "code",
   "execution_count": 3,
   "metadata": {},
   "outputs": [
    {
     "name": "stdout",
     "output_type": "stream",
     "text": [
      "['Austen', 'Dostoevsky', 'Twain']\n",
      "['Austen', 'Dostoevsky', 'Twain', 'Moliere']\n"
     ]
    }
   ],
   "source": [
    "favorite_authors = ['Shakespeare', 'Dostoevsky', 'Twain']\n",
    "favorite_authors[0] = 'Austen'\n",
    "print(favorite_authors)\n",
    "\n",
    "favorite_authors.append('Moliere')\n",
    "print(favorite_authors)"
   ]
  },
  {
   "cell_type": "markdown",
   "metadata": {},
   "source": [
    "#### Searching a list for a specific item\n",
    "We can find an item in a list by identifying its index (i.e., it's position in the list).  Remember, Python starts counting with 0."
   ]
  },
  {
   "cell_type": "code",
   "execution_count": 4,
   "metadata": {},
   "outputs": [
    {
     "name": "stdout",
     "output_type": "stream",
     "text": [
      "2\n"
     ]
    }
   ],
   "source": [
    "print(favorite_authors.index('Twain'))"
   ]
  },
  {
   "cell_type": "markdown",
   "metadata": {},
   "source": [
    "But if the item is not in the list, we will get an error message:"
   ]
  },
  {
   "cell_type": "code",
   "execution_count": 5,
   "metadata": {},
   "outputs": [
    {
     "ename": "ValueError",
     "evalue": "'Shakespeare' is not in list",
     "output_type": "error",
     "traceback": [
      "\u001b[1;31m---------------------------------------------------------------------------\u001b[0m",
      "\u001b[1;31mValueError\u001b[0m                                Traceback (most recent call last)",
      "\u001b[1;32m<ipython-input-5-e83eb49fc4a0>\u001b[0m in \u001b[0;36m<module>\u001b[1;34m\u001b[0m\n\u001b[1;32m----> 1\u001b[1;33m \u001b[0mprint\u001b[0m\u001b[1;33m(\u001b[0m\u001b[0mfavorite_authors\u001b[0m\u001b[1;33m.\u001b[0m\u001b[0mindex\u001b[0m\u001b[1;33m(\u001b[0m\u001b[1;34m'Shakespeare'\u001b[0m\u001b[1;33m)\u001b[0m\u001b[1;33m)\u001b[0m\u001b[1;33m\u001b[0m\u001b[1;33m\u001b[0m\u001b[0m\n\u001b[0m",
      "\u001b[1;31mValueError\u001b[0m: 'Shakespeare' is not in list"
     ]
    }
   ],
   "source": [
    "print(favorite_authors.index('Shakespeare'))"
   ]
  },
  {
   "cell_type": "markdown",
   "metadata": {},
   "source": [
    "Before searching for an item in list, we can check to see if it exists by counting the number of occurrences:"
   ]
  },
  {
   "cell_type": "code",
   "execution_count": 6,
   "metadata": {},
   "outputs": [
    {
     "name": "stdout",
     "output_type": "stream",
     "text": [
      "0\n"
     ]
    }
   ],
   "source": [
    "print(favorite_authors.count('Shakespeare'))"
   ]
  },
  {
   "cell_type": "markdown",
   "metadata": {},
   "source": [
    "## 7.3 Dictionaries and Dictionary Methods\n",
    "\n",
    "A `dictionary` in Python is another way to organize data within your code.\n",
    "\n",
    "To understand how a dictionary works, think about a physical dictionary. Each entry has two parts:  the word that you want to look up and the definition of that word.  \n",
    "\n",
    "But, in programming, we want our dictionaries to be more general.  Instead of having a word and its definition, we want a `key` that we can search on and its `value`(any information that we want to associate with the key).\n",
    "\n",
    "In programming, these are called `key:value` pairs.\n",
    "\n",
    "\n",
    "The syntax for creating a dictionary is as follows:\n",
    "\n",
    "```\n",
    "variable = {key1:value1, key2:value2, key3:value3, key4:value4}\n",
    "```\n",
    "Notice the use of the curly brackets and the colons. The curly brackets let Python know that the variable will hold a dictionary.  The colons indicated the association between the keys and the values.  The key must be on the left of the colon and the value on the right.\n",
    "\n",
    "We can include as many key:value pairs as we want.  \n",
    "\n",
    "To access the information in a dictionary, we can use a key value as an \"index\".  For example:\n"
   ]
  },
  {
   "cell_type": "code",
   "execution_count": 7,
   "metadata": {},
   "outputs": [
    {
     "name": "stdout",
     "output_type": "stream",
     "text": [
      "The capital of Florida is Tallahassee.\n"
     ]
    }
   ],
   "source": [
    "state_capitals = {\"Virginia\":\"Richmond\", \n",
    "                  \"Florida\":\"Tallahassee\", \n",
    "                  \"Maryland\":\"Annapolis\",\n",
    "                  \"California\": \"Sacramento\"}\n",
    "\n",
    "print(\"The capital of Florida is {:s}.\".format(state_capitals[\"Florida\"]))"
   ]
  },
  {
   "cell_type": "markdown",
   "metadata": {},
   "source": [
    "We can start with an empty dictionary and add information as needed.\n"
   ]
  },
  {
   "cell_type": "code",
   "execution_count": 8,
   "metadata": {},
   "outputs": [
    {
     "name": "stdout",
     "output_type": "stream",
     "text": [
      "{}\n",
      "{'Harry Potter and the Chamber of Secrets': 39}\n",
      "{'Harry Potter and the Chamber of Secrets': 39, 'The Sun Also Rises': 18}\n"
     ]
    }
   ],
   "source": [
    "title_lengths = {}  #Empty dictionary\n",
    "print(title_lengths)\n",
    "\n",
    "title = \"Harry Potter and the Chamber of Secrets\"\n",
    "title_lengths[title] = len(title)\n",
    "print(title_lengths)\n",
    "        \n",
    "title = \"The Sun Also Rises\"\n",
    "title_lengths[title] = len(title)\n",
    "print(title_lengths)\n",
    "         \n",
    "\n"
   ]
  },
  {
   "cell_type": "markdown",
   "metadata": {},
   "source": [
    "\n",
    "To get a list of all of the keys in our dictionary, we can use the keys() method.\n",
    "\n",
    "```\n",
    "print(title_lengths.keys())\n",
    "```\n",
    "Similarly, we can use the values() method to get a list of values.\n",
    "\n",
    "```\n",
    "print(title_lengths.values())\n",
    "```"
   ]
  },
  {
   "cell_type": "code",
   "execution_count": 9,
   "metadata": {},
   "outputs": [
    {
     "name": "stdout",
     "output_type": "stream",
     "text": [
      "dict_keys(['Harry Potter and the Chamber of Secrets', 'The Sun Also Rises'])\n",
      "dict_values([39, 18])\n",
      "The Sun Also Rises\n"
     ]
    }
   ],
   "source": [
    "print(title_lengths.keys())\n",
    "print(title_lengths.values())\n",
    "some_key = list(title_lengths.keys())[1]\n",
    "print(some_key)"
   ]
  },
  {
   "cell_type": "markdown",
   "metadata": {},
   "source": [
    "<font color=blue>---------------------------------------------------------------</font>\n",
    "\n",
    "### Activity:  Creating a Simple Dictionary\n",
    "\n",
    "Write a small program that will create a dictionary called `birthdays` that holds the birthdates or your closest family or friends.  Then, have the program prompt the user to input a name and displays the birthday associated with that name.\n",
    "\n",
    "    \n",
    "<font color=blue>---------------------------------------------------------------</font>"
   ]
  },
  {
   "cell_type": "code",
   "execution_count": 12,
   "metadata": {},
   "outputs": [
    {
     "name": "stdout",
     "output_type": "stream",
     "text": [
      "Please enter a name: Ryan\n",
      "The birthdate of Ryan is 19 Aug 1971.\n"
     ]
    }
   ],
   "source": [
    "birthdays = { \"Ryan\":\"19 Aug 1971\", \"Steve\":\"10 Jan 1968\", \"Kristi\":\"3 Sep 1975\"}\n",
    "\n",
    "name = input(\"Please enter a name: \")\n",
    "print(\"The birthdate of {:s} is {:s}.\".format(name, birthdays[name]))"
   ]
  },
  {
   "cell_type": "markdown",
   "metadata": {},
   "source": [
    "## 7.4 Sets\n",
    "\n",
    "A set is an unordered collection of unique items and is **immutable**."
   ]
  },
  {
   "cell_type": "code",
   "execution_count": 13,
   "metadata": {},
   "outputs": [
    {
     "name": "stdout",
     "output_type": "stream",
     "text": [
      "hobby list:   ['guitar', 'welding', 'cooking', 'cooking', 'car repair', 'video games', 'video games', 'math', 'welding']\n",
      "hobby set:   {'video games', 'guitar', 'cooking', 'math', 'welding', 'car repair'}\n"
     ]
    }
   ],
   "source": [
    "Johns_hobbies = [\"guitar\", \"welding\", \"cooking\"]\n",
    "Marys_hobbies = [\"cooking\", \"car repair\", \"video games\"]\n",
    "Ians_hobbies = [\"video games\", \"math\", \"welding\"]\n",
    "\n",
    "hobby_list = Johns_hobbies + Marys_hobbies + Ians_hobbies\n",
    "print(\"hobby list:  \", hobby_list)\n",
    "hobby_set = set(hobby_list)\n",
    "print(\"hobby set:  \", hobby_set) "
   ]
  },
  {
   "cell_type": "markdown",
   "metadata": {},
   "source": [
    "Because sets are _unordered_, you cannot index into them."
   ]
  },
  {
   "cell_type": "code",
   "execution_count": 14,
   "metadata": {},
   "outputs": [
    {
     "ename": "TypeError",
     "evalue": "'set' object is not subscriptable",
     "output_type": "error",
     "traceback": [
      "\u001b[1;31m---------------------------------------------------------------------------\u001b[0m",
      "\u001b[1;31mTypeError\u001b[0m                                 Traceback (most recent call last)",
      "\u001b[1;32m<ipython-input-14-283975ee0683>\u001b[0m in \u001b[0;36m<module>\u001b[1;34m\u001b[0m\n\u001b[1;32m----> 1\u001b[1;33m \u001b[0mhobby_set\u001b[0m\u001b[1;33m[\u001b[0m\u001b[1;36m1\u001b[0m\u001b[1;33m]\u001b[0m\u001b[1;33m\u001b[0m\u001b[1;33m\u001b[0m\u001b[0m\n\u001b[0m",
      "\u001b[1;31mTypeError\u001b[0m: 'set' object is not subscriptable"
     ]
    }
   ],
   "source": [
    "hobby_set[1]"
   ]
  },
  {
   "cell_type": "markdown",
   "metadata": {},
   "source": [
    "## 7.5 Tuples and Tuple Methods\n",
    "\n",
    "A tuple is a collection of ordered items and is **immutable**.   The notation for a tuple is the items, separated by commas, and enclosed by parentheses:\n",
    "```\n",
    "my_tuple = ('red', 'orange', 'yellow', 'green', 'blue', 'indigo', 'violet')\n",
    "```\n",
    "\n",
    "The notation for tuples can be a little strange.  For example, a tuple with a single item still needs a comma:\n",
    "```\n",
    "no_color = ('black', )\n",
    "```\n",
    "\n",
    "Similar to lists, you can use `index()` and `count()` to find items in a tuple:"
   ]
  },
  {
   "cell_type": "code",
   "execution_count": 15,
   "metadata": {},
   "outputs": [
    {
     "name": "stdout",
     "output_type": "stream",
     "text": [
      "Number of times 'black' is in the tuple:   0\n",
      "Position of 'indigo' in the tuple:   5\n"
     ]
    }
   ],
   "source": [
    "my_tuple = ('red', 'orange', 'yellow', 'green', 'blue', 'indigo', 'violet')\n",
    "print(\"Number of times 'black' is in the tuple:  \", my_tuple.count('black'))\n",
    "print(\"Position of 'indigo' in the tuple:  \", my_tuple.index('indigo'))\n"
   ]
  }
 ],
 "metadata": {
  "kernelspec": {
   "display_name": "Python 3",
   "language": "python",
   "name": "python3"
  },
  "language_info": {
   "codemirror_mode": {
    "name": "ipython",
    "version": 3
   },
   "file_extension": ".py",
   "mimetype": "text/x-python",
   "name": "python",
   "nbconvert_exporter": "python",
   "pygments_lexer": "ipython3",
   "version": "3.7.3"
  }
 },
 "nbformat": 4,
 "nbformat_minor": 2
}
