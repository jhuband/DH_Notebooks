{
 "cells": [
  {
   "cell_type": "markdown",
   "metadata": {},
   "source": [
    "# Python for Digital Humanities"
   ]
  },
  {
   "cell_type": "markdown",
   "metadata": {},
   "source": [
    "## Unit #9  Functions"
   ]
  },
  {
   "cell_type": "markdown",
   "metadata": {},
   "source": [
    "\n",
    "* Overview\n",
    "* Function Syntax\n",
    "\n",
    "<font color=blue>---------------------------------------------------------------</font>"
   ]
  },
  {
   "cell_type": "markdown",
   "metadata": {},
   "source": [
    "## 9.1 Overview\n",
    "\n",
    "\n",
    "Functions are lines of code that perform a specific task and are grouped together to create a new command or function in the code.\n",
    "There are two primary uses of functions:\n",
    " - When we want to break down a large program in to smaller, easier to manage pieces; and\n",
    " - When we have a group of statements that we need to run repeatedly throughout a program.\n",
    " \n",
    "A classic example of a function that we have been using is the `print()` function.  There is some code built into Python that will do all of the work to send some information to the console.  But, we normally want to give is something to print.  It could be a string:\n",
    "```\n",
    "print(\"Hello World\")\n",
    "```\n",
    "Or the contents of a variable:\n",
    "```\n",
    "temperature = 68.0\n",
    "print(temperature)\n",
    "\n",
    "```\n",
    "\n",
    "The print function performs an action, but more often, we would like for a function to perform a computation or transformation and return the result.  For example, the `int()` function will convert a string to its numeric value:\n",
    "```\n",
    "age_str = \"29\"\n",
    "age = int(age_str)\n",
    "\n",
    "```\n",
    "\n",
    "You will find that dividing a long program into functions will make it easier to maintain.\n",
    "So, let's look at the syntax for writing a function."
   ]
  },
  {
   "cell_type": "markdown",
   "metadata": {},
   "source": [
    "## 9.2 Function Syntax\n",
    "\n",
    "The format or syntax for writing a function in Python is \n",
    "\n",
    "```\n",
    "def functionName(parameters):\n",
    "   block_of_code\n",
    "   return(result)\n",
    "```\n",
    "\n",
    "The `parameters` are the pieces of information that are passed into the function.  The function usually needs that information to do its job.  If you want to return a value or result from the function, you include it in a `return` statement. \n",
    "\n",
    "An example of a function is as follows:"
   ]
  },
  {
   "cell_type": "code",
   "execution_count": 1,
   "metadata": {},
   "outputs": [],
   "source": [
    "def min_of_3(a, b, c):\n",
    "    if a < b and a < c:\n",
    "        the_min = \"The first grade, {:.2f}, is the lowest.\".format(a)\n",
    "    elif(b < c):\n",
    "        the_min = \"The second grade, {:.2f}, is the lowest.\".format(b)\n",
    "    else: \n",
    "        the_min = \"The third grade, {:.2f}, is the lowest.\".format(c)\n",
    "    return(the_min)\n"
   ]
  },
  {
   "cell_type": "markdown",
   "metadata": {},
   "source": [
    "The first word `def` means \"definition\".  The code example is precisely that -- a definition.  It does not run until it is called.  We call it by using the name of the function and any parameters that it needs.  However, the function must be defined in the code before it can be called.\n",
    "\n"
   ]
  },
  {
   "cell_type": "code",
   "execution_count": 29,
   "metadata": {},
   "outputs": [
    {
     "name": "stdout",
     "output_type": "stream",
     "text": [
      "The third grade, 0.85, is the lowest.\n"
     ]
    }
   ],
   "source": [
    "grade_1 = 15/17\n",
    "grade_2 = 30/35\n",
    "grade_3 = 85/100\n",
    "\n",
    "print(min_of_3(grade_1, grade_2, grade_3))"
   ]
  },
  {
   "cell_type": "markdown",
   "metadata": {},
   "source": [
    "Let's return to the exerpt from Emma to explore the text.  Suppose se want to count how many times a particular word, like 'in', occurs in the text.  We could do this with the following code:"
   ]
  },
  {
   "cell_type": "code",
   "execution_count": 30,
   "metadata": {},
   "outputs": [],
   "source": [
    "with open('austen-emma-excerpt.txt') as f:\n",
    "    text = f.read()\n"
   ]
  },
  {
   "cell_type": "code",
   "execution_count": 31,
   "metadata": {},
   "outputs": [
    {
     "name": "stdout",
     "output_type": "stream",
     "text": [
      "3\n"
     ]
    }
   ],
   "source": [
    "words = text.split()\n",
    "number_of_hits = 0\n",
    "item_to_count = 'in'\n",
    "\n",
    "for item in words:\n",
    "    if item == item_to_count:\n",
    "        number_of_hits += 1\n",
    "        \n",
    "print(number_of_hits)"
   ]
  },
  {
   "cell_type": "markdown",
   "metadata": {},
   "source": [
    "But what if we want to count the occurrences of several words, like 'was', 'had', 'best', and so on.  We could manually change the `item_to_count` variable in the one block of code, or we could copy and paste the block of code and change the `item_to_count` in each copy, or we could write a function to perform the count, where we pass in the word that we want to count.\n",
    "\n",
    "Consider the code below:"
   ]
  },
  {
   "cell_type": "code",
   "execution_count": 32,
   "metadata": {},
   "outputs": [],
   "source": [
    "def count_in_list(item_to_count, list_to_search):\n",
    "    number_of_hits = 0\n",
    "    for item in list_to_search:\n",
    "        if item in item_to_count:\n",
    "            number_of_hits += 1\n",
    "            \n",
    "    return(number_of_hits)"
   ]
  },
  {
   "cell_type": "markdown",
   "metadata": {},
   "source": [
    "This function has a very specific task -- to count a particulr item  in a list of items.  We can call this function and pass in the `item_to_count` and the `list_to_search`."
   ]
  },
  {
   "cell_type": "code",
   "execution_count": 33,
   "metadata": {},
   "outputs": [
    {
     "name": "stdout",
     "output_type": "stream",
     "text": [
      "There were 3 occurrences of 'in' in the text.\n"
     ]
    }
   ],
   "source": [
    "count = count_in_list(\"in\", words)\n",
    "print(\"There were {:d} occurrences of 'in' in the text.\".format(count))"
   ]
  },
  {
   "cell_type": "markdown",
   "metadata": {},
   "source": [
    "More importantly, we can vary the `item_to_count` and even the `list_to_search` if we had multiple text to search.\n",
    "\n",
    "We also can create a loop in which we call the function."
   ]
  },
  {
   "cell_type": "code",
   "execution_count": 34,
   "metadata": {},
   "outputs": [
    {
     "name": "stdout",
     "output_type": "stream",
     "text": [
      "Occurrences of was':\t6\n",
      "Occurrences of Emma':\t6\n",
      "Occurrences of had':\t8\n",
      "Occurrences of best':\t1\n",
      "Occurrences of world':\t2\n"
     ]
    }
   ],
   "source": [
    "words_to_count = ['was', 'Emma', 'had', 'best', 'world']\n",
    "for item in words_to_count:\n",
    "    count = count_in_list(item, words)\n",
    "    print(\"Occurrences of {:s}':\\t{:d}\".format(item, count))"
   ]
  },
  {
   "cell_type": "markdown",
   "metadata": {},
   "source": [
    "<font color=blue>---------------------------------------------------------------</font>\n",
    "\n",
    "### Activity:  Creating a Simple Function\n",
    "\n",
    "Write a function that will \n",
    "- take as an input parameter, the name of a file, \n",
    "- read the contents of the file into a variable called `text`, and\n",
    "- return the contents of `text`.\n",
    "\n",
    "Test your function by passing in the file name \"austen-emma-excerpt.txt\".\n",
    "Then, test it by passing in the filename \"MLK_speech.txt\".\n",
    "\n",
    "    \n",
    "<font color=blue>---------------------------------------------------------------</font>"
   ]
  },
  {
   "cell_type": "markdown",
   "metadata": {},
   "source": [
    "### Activity:  Creating a Pre-processing Function\n",
    "\n",
    "Write a function that will \n",
    "- take as an input parameter, the text of a file, \n",
    "- convert the text to all lower case,\n",
    "- remove any punctuation in the text, and \n",
    "- return the \"cleaned\" text.\n",
    "\n",
    "Include the this function and the function from the previous activity in a file called `preprocess.py`.\n",
    "Call the first function function by passing in the file name \"austen-emma-excerpt.txt\".\n",
    "Then, call the second function to process the text from that file.\n",
    "    \n",
    "<font color=blue>---------------------------------------------------------------</font>"
   ]
  }
 ],
 "metadata": {
  "kernelspec": {
   "display_name": "Python 3",
   "language": "python",
   "name": "python3"
  },
  "language_info": {
   "codemirror_mode": {
    "name": "ipython",
    "version": 3
   },
   "file_extension": ".py",
   "mimetype": "text/x-python",
   "name": "python",
   "nbconvert_exporter": "python",
   "pygments_lexer": "ipython3",
   "version": "3.7.3"
  }
 },
 "nbformat": 4,
 "nbformat_minor": 2
}
