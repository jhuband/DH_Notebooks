{
 "cells": [
  {
   "cell_type": "markdown",
   "metadata": {},
   "source": [
    "# Python for Digital Humanities"
   ]
  },
  {
   "cell_type": "markdown",
   "metadata": {},
   "source": [
    "## Unit #8:  Control of Flow"
   ]
  },
  {
   "cell_type": "markdown",
   "metadata": {
    "collapsed": true
   },
   "source": [
    "\n",
    "\n",
    "* Overview\n",
    "* Conditional Statements\n",
    "* Relational Operators\n",
    "* Logical Operators\n",
    "* Loops\n",
    "\n",
    "<font color=blue>---------------------------------------------------------------</font>"
   ]
  },
  {
   "cell_type": "markdown",
   "metadata": {},
   "source": [
    "## 8.1 Overview\n",
    "\n",
    "The power behind programming is writing code that will make decisions for us.  For example. suppose we have written a program that will read in a text file and perform simple anaysis on the text.  Furthermore, we have designed the code so that we simply give it a file name, and it will do all of the steps that we have prepared in advance.  Except, we have a problem -- unbeknownst to us, the latest text file is empty.  We are getting all sorts of strange results with our text analysis.  \n",
    "\n",
    "Wouldn't it have been great if the code could have checked to see that the file was empty before it attempted to do the analysis?  This type of control is what we want in our code.\n",
    "\n",
    "\n",
    "Using **Controls of Flow** is how we build into our program features for making decisions.  Common types of control are \n",
    "* Having the program choose between two or more blocks of statements to execute depending on conditions of the data; or\n",
    "* Having the program repeat a block of statements for a specified number of times or while a condition exists in the data.\n",
    "\n",
    "Two structures that allow the control of flow are _conditional statements_ and _loops_.  In both structures, we will need to tell the computer what conditions are necessary.  For example, if the condition is that the file is empty, then we want the computer to skip performing the text analysis.  "
   ]
  },
  {
   "cell_type": "markdown",
   "metadata": {
    "collapsed": true
   },
   "source": [
    "## 4.1 Conditional Statements\n",
    "\n",
    "A conditional statement gives the computer the ability to **decide** on a course of action. It also is called a _selection_ or _branch_ statement.\n",
    "The overall format in Python is as follows:\n",
    "\n",
    "```\n",
    "if condition_1:\n",
    "  statements to perform if condition_1 is true\n",
    "elif condition_2:\n",
    "  statements to perform if condition_1 is false and condition_2 is true\n",
    "else:\n",
    "  statements to perform if condition_1 and condition_2 are false\n",
    "```\n",
    "Both the `elif` block and the `else` block are optional.  \n",
    "Furthermore, you can have as many elif blocks as you need to cover all conditions, but there can be only one `else` block.\n",
    "\n",
    "<font color=blue>---------------------------------------------------------------</font>\n",
    "\n",
    "#### Simple *if* example\n",
    "\n",
    "We may decide that we want the code to perform an action only under one condition:\n",
    "```\n",
    "if temperature > 101.0:\n",
    "   print(\"Go to the doctor now!!\")\n",
    "```\n",
    "Assuming that the variable `temperature` has a value assigned to it, the computer will determine if the condition is True (i.e., `temperature` is greater than 101.0) or False (i.e., `temperature` is not greater than 101.0). If the condition is true, it will perform the print statement.  If the condition is false,  it will jump over the print statement and continue with any subsequent lines of code.\n",
    "\n",
    "<font color=blue>---------------------------------------------------------------</font>\n",
    "\n",
    "#### Simple *if/else* Example\n",
    "If we want to perform an action if the condition is false, we can use a simple if/else statement.\n",
    " \n",
    "```\n",
    "if temperature > 101.0:\n",
    "   print(\"Go to the doctor now!!\")\n",
    "else\n",
    "   print(\"You'll be fine.  Just drink lots of OJ.\")\n",
    "\n",
    "```\n",
    "Again, assuming that the variable `temperature` has a value assigned to it, the computer will determine if the statement is True (i.e., `temperature` is greater than 101.0) or False (i.e., `temperature` is not greater than 101.0). Then, it will choose the appropriate print statement to execute.  \n",
    "\n",
    "<font color=blue>---------------------------------------------------------------</font>\n",
    "\n",
    "#### Multiple Conditions Example:\n",
    "\n",
    "Finally, we may want to check for multiple conditions and perform different actions depending on the actual condition.\n",
    "\n",
    "```\n",
    "if temperature > 101.0:\n",
    "   print(\"Go to the doctor now!!\")\n",
    "elif temperature > 98.7:\n",
    "   print(\"You'll be fine.  Just drink lots of OJ.\")\n",
    "elif temperature > 98.2:\n",
    "   print(\"You're normal.\")\n",
    "else:\n",
    "   print(\"I think we need a new thermometer!\")\n",
    "print(\"I've said my piece.\")\n",
    "```\n",
    "\n",
    "In this case, `temperature` is compared with 101.0.  If it is true, the first print statement is performed and the rest of the `elif` and `else` statements are skipped.  If `temperature` is not greater than 101.0, the computer will check the next condition `temperature > 98.7`.  If this condition is true, it will print the `You'll be fine. . .` message.  If the condition is false, it will move onto the next condition.\n",
    "\n",
    "In general, the computer performs the statement(s) associated with the first true condition.  If all conditions are false and an `else` statement, it will perform the `else` statement.\n",
    "\n",
    "\n",
    "#### Important features to notice:\n",
    "   - There is a colon ( : ) at the end of each `if`, `elif`, or `else` statement;\n",
    "   - The statement(s) to execute for any condition must be indented;\n",
    "       - The indentation must be consistent throughout your code;\n",
    "       - Do not use tabs for the indentation -- they are inconsistent on different computers or editors;\n",
    "   - The `else` statement does not have a condition attached to it;\n",
    "   - To end the if statement, simply unindent the next line of code. \n",
    "       - In the above example, the final print statement is outside of the if statement.  \n",
    "       - It will be executed regardless of which branch in the multicondition if is performed."
   ]
  },
  {
   "cell_type": "markdown",
   "metadata": {},
   "source": [
    "## 8.2 Relational Operators\n",
    "\n",
    "The `condition` in our example is the comparison of `temperature` with a numeric value. The greater-than sign ( > ) is called a **relational operator**.\n",
    "\n",
    "A list of the relational operators includes:\n",
    "\n",
    "|Operation | Symbol |\n",
    "|---       |---     |\n",
    "|Greater than | > |\n",
    "|Less than |  <   |\n",
    "|Greater than or equal to | >= |\n",
    "|Less than or equal to    | <= |\n",
    "|Equal to                 | == |\n",
    "|Not equal to             | != |\n",
    "\n",
    "\n",
    "\n",
    "\n",
    "\n",
    "To write good conditions in your code, you must understand the relational operators that are available.  For example, the opposite of `>` is `<=`.  So, we could have written our simple if/else example as follows:\n",
    "```\n",
    "if temperature <= 101.0:\n",
    "   print(\"You'll be fine.  Just drink lots of OJ.\")\n",
    "else:\n",
    "   print(\"Go to the doctor now!!\")\n",
    "```\n",
    "\n",
    "NOTE:  A common operator for text manipulation is `in`.  For example,\n",
    "\n",
    "```\n",
    "   title = input(\"Enter the title of your favorite book:  \")\n",
    "   if \"Harry\" in title:\n",
    "      print(\"I bet you are a Harry Potter fan!\")\n",
    "      \n",
    "```"
   ]
  },
  {
   "cell_type": "markdown",
   "metadata": {},
   "source": [
    "<font color=blue>---------------------------------------------------------------</font>\n",
    "\n",
    "### Activity:  Creating a Simple If/Else Statement\n",
    "\n",
    "Write a small program that will \n",
    " - Read the file \"emma_chapter_one.txt\" into a variable called `text`\n",
    " - if the length of the contents of `text` is greater than zero, have it perform some text analysis; otherwise, have it write a message saying that the file is empty. \n",
    " \n",
    "\n",
    " "
   ]
  },
  {
   "cell_type": "markdown",
   "metadata": {},
   "source": [
    "<font color=blue>---------------------------------------------------------------</font>\n",
    "\n",
    "### Activity:  Creating a Simple If/Else Statement\n",
    "\n",
    "Write a small program that will \n",
    " - Prompt the user to type in a description of the weather (e.g., rainy, sunny)\n",
    " - if the description is \"rainy\", print to the console an apology; if it is \"snowing\", print to the console a message that school is out; otherwise, print to the console a cheery message\n",
    " \n",
    "\n",
    "    \n",
    "<font color=blue>---------------------------------------------------------------</font>"
   ]
  },
  {
   "cell_type": "markdown",
   "metadata": {},
   "source": [
    "## 8.3 Logical Operators:  and, or, not\n",
    "\n",
    "\n",
    "There may be times when we want to combine more than one condition, or we want to negate a condition.  The keywords `and`, `or`, and `not` are available to use in our condition statements.\n",
    "\n",
    "\n",
    "The `and` requires that both conditions exist; the `or` requires that at least one condition exists."
   ]
  },
  {
   "cell_type": "code",
   "execution_count": 4,
   "metadata": {},
   "outputs": [
    {
     "name": "stdout",
     "output_type": "stream",
     "text": [
      "The text deals with life.\n",
      "The text deals with death.\n"
     ]
    }
   ],
   "source": [
    "with open('emma_chapter_one.txt') as f:\n",
    "    text = f.read()\n",
    "\n",
    "\n",
    "if \"young\" in text and \"old\" not in text:\n",
    "    print(\"The text deals with youth.\")\n",
    "if 'live' in text or 'die' in text:\n",
    "    print(\"The text deals with life.\")\n",
    "if 'old' in text and 'die' in text:\n",
    "    print(\"The text deals with death.\")\n",
    "    "
   ]
  },
  {
   "cell_type": "markdown",
   "metadata": {},
   "source": [
    "<font color=blue>---------------------------------------------------------------</font>\n",
    "\n",
    "### Activity: Checking for Multiple Conditions\n",
    "Write a small program that will \n",
    "- Read in the excerpt from _Emma_:  \"austin_emma_excerpt.txt\";\n",
    "- Have the program determine if the excerpt contains all of the words \"mother\", \"father\", \"sister\", and \"brother\".\n",
    "    - If all of these terms are in the text, print a message that the text is family oriented.\n",
    "- If it does not contain all of the words, check to see if it missing the male members of the family:  \"father\" and \"brother\".\n",
    "     - if it is missing both of these terms, print a message that the text is female oriented.\n",
    "     - Otherwise, print a message that the text is mostly family-oriented\n",
    "\n",
    "<font color=blue>---------------------------------------------------------------</font>\n"
   ]
  },
  {
   "cell_type": "markdown",
   "metadata": {},
   "source": [
    "## 8.4 Loops\n",
    "\n",
    "Loops allow the code to repeat a block of code for a specified number of times or until a certain condition exists.\n",
    "\n",
    "### 8.4.1 For Loops\n",
    "\n",
    "Normally, a for-loop will step through an *iterable* -- that is, a list or some sort of collection of items.  In Python, the general syntax of a for-loop is as follows:\n",
    "\n",
    "```\n",
    "for item in interable:\n",
    "   statement(s) that will be performed\n",
    "```\n",
    "\n",
    "In this example, `item` is the _loop variable_.  Each time through the loop, it is set equal to one of the elements of the iterable.  \n",
    "\n",
    "\n",
    "#### Important features to notice:\n",
    "   - There is a colon ( : ) at the end of the `for` statement;\n",
    "   - The statement(s) to execute within the loop must be indented;\n",
    "       - The indentation must be consistent throughout your code.\n",
    "       - Do not use tabs for the indentation -- they are inconsistent on different computers or editors.\n",
    "   - To end the loop, simply unindent the next line of line code.\n",
    "\n",
    "The loop variable can be used to count the number of times that a task is done; or, it can be an element that we want to process.\n"
   ]
  },
  {
   "cell_type": "code",
   "execution_count": 5,
   "metadata": {},
   "outputs": [
    {
     "name": "stdout",
     "output_type": "stream",
     "text": [
      "Reading in file #0\n",
      "Reading in file #1\n",
      "Reading in file #2\n",
      "Reading in file #3\n",
      "Reading in file #4\n"
     ]
    }
   ],
   "source": [
    "for i in range(5):\n",
    "    print(\"Reading in file #{:d}\".format(i))\n"
   ]
  },
  {
   "cell_type": "markdown",
   "metadata": {},
   "source": [
    "In this example, `range()` will create an iterable that starts at 0 and goes up to (but does not include) the specified value. So, the loop variable, `i`, will be set equal to 0, 1, 2, 3, or 4 as the code loops through the iterable. Notice that 0 - 4 still gives us 5 iterations of the loop.\n",
    "\n",
    "\n",
    "As another example, we may want to perform an action for a list of items."
   ]
  },
  {
   "cell_type": "code",
   "execution_count": 6,
   "metadata": {},
   "outputs": [
    {
     "name": "stdout",
     "output_type": "stream",
     "text": [
      "In austen-emma-excerpt.txt, the word dream appears 0 times.\n",
      "In The_Raven.txt, the word dream appears 12 times.\n",
      "In MLK_speech.txt, the word dream appears 11 times.\n"
     ]
    }
   ],
   "source": [
    "my_docs = [ 'austen-emma-excerpt.txt', 'The_Raven.txt', 'MLK_speech.txt']\n",
    "keyword = \"dream\"\n",
    "\n",
    "for document in my_docs:\n",
    "    with open(document) as f:\n",
    "        text = f.read()\n",
    "    key_count = text.count(keyword)\n",
    "    print(\"In {:s}, the word {:s} appears {:d} times.\".format(document, keyword, key_count))"
   ]
  },
  {
   "cell_type": "markdown",
   "metadata": {},
   "source": [
    "In this example, our loop variable is `document` and our iterable is `my_docs` which is a list of file names that I have.  Each time through the loop, `document` will be set equal one of the file names.  Inside the loop, the code reads the contents of `document` and determine the number of times a keyword appears in the text.\n",
    "\n"
   ]
  },
  {
   "cell_type": "markdown",
   "metadata": {},
   "source": [
    "#### What if our iterable is a string?\n",
    "\n",
    "Consider the following snippet of code:\n",
    "\n",
    "```\n",
    "title = \"Indiana Jones and the Last Crusade\"\n",
    "for x in title:\n",
    "  print(x)\n",
    "```\n",
    "As humans, we might think that the string is a collection of words.  But, to the computer, a string is always a collection of characters -- the computer doesn't care about the spaces.\n",
    "\n",
    "The first time through the loop, the `x` variable will hold a copy of the first letter in the string.  Each time through the loop, the `x` variable will be assigned the next character in the string. The loop continues until `x` has taken on the last character."
   ]
  },
  {
   "cell_type": "markdown",
   "metadata": {},
   "source": [
    "<font color=blue>---------------------------------------------------------------</font>\n",
    "\n",
    "### Activity: Looping through a List\n",
    "Type in and run the following lines.\n",
    "\n",
    "```\n",
    "title = \"Indiana Jones and the Last Crusade\"\n",
    "for x in title.split():\n",
    "   print(x)\n",
    "print(\"\\n\\nAll Done\")\n",
    "```\n",
    "\n",
    "What is the difference in this example and the previous loop on this title?\n",
    "\n",
    "Also, notice that I used `\\n` twice in the final print statement.  These are control characters that give to the computer instructions for how I want to print the statement \"All Done\".  Specifically, each `\\n` tells the computer to move to a new line.  \n",
    "\n",
    "<font color=blue>---------------------------------------------------------------</font>\n"
   ]
  },
  {
   "cell_type": "markdown",
   "metadata": {},
   "source": [
    "\n",
    "\n",
    "### Activity: Getting a Count of Words in an Excerpt\n",
    "Design a set of Python instructions that will count the numbers of occurences of the words \n",
    "\n",
    "_she_ ,\n",
    "\n",
    "_young_ ,\n",
    "\n",
    "_was_ ,\n",
    "\n",
    "_had_ \n",
    "\n",
    "in the Emma excerpt.\n",
    "\n",
    "Hint:  Create a list of the words of interest, loop through the list, and print the word and its count to the screen.\n",
    "\n",
    "**BONUS:**  Create a dictionary where the words are the _key_ and the counts are the _value_.  Initialize the counts to zero, loop through the keys and assign the appropriate counts.  Print the key-value pairs as to the console, using formatting to create an aesthetically-pleasing table.\n",
    "\n",
    "\n",
    "<font color=blue>---------------------------------------------------------------</font>\n"
   ]
  },
  {
   "cell_type": "markdown",
   "metadata": {},
   "source": [
    "Recall that we said the `for` loop must include an iterable collection of items.  To create an interable collection of integers, we use the `range` function.  If we can supply `range` with a starting and a stopping number.  Remember, the stopping number needs to be one more than what we want to process."
   ]
  },
  {
   "cell_type": "code",
   "execution_count": 7,
   "metadata": {},
   "outputs": [
    {
     "name": "stdout",
     "output_type": "stream",
     "text": [
      "Results of range(5):\n",
      "0\n",
      "1\n",
      "2\n",
      "3\n",
      "4\n",
      "Results of range(1, 6)\n",
      "1\n",
      "2\n",
      "3\n",
      "4\n",
      "5\n"
     ]
    }
   ],
   "source": [
    "print(\"Results of range(5):\")\n",
    "for i in range(5):\n",
    "    print(i)\n",
    "   \n",
    "print(\"Results of range(1, 6)\")\n",
    "for i in range(1,6):\n",
    "    print(i)"
   ]
  },
  {
   "cell_type": "markdown",
   "metadata": {},
   "source": [
    "### 8.4.2 While Loops\n",
    "\n",
    "The `for` loop allows us to go through a list of items or to specify the number of times the loop is performed.  Suppose we do not have an iterable list or do not know how many times we want to loop; suppose we want to continue until we reach a certain condition.  We have a `while` loop to handle these situations.\n",
    "\n",
    "The general syntax for the `while`loop is\n",
    "\n",
    "```\n",
    "while condition:\n",
    "   statement(s) to run if condition is true\n",
    "```\n",
    "\n",
    "After the computer runs the statement(s), it loops back up and re-checks the `condition`.  As long as the `condition` is true, the code will continue to rerun the statement(s).  The loop finishes only when the `condition` turns false.\n",
    "\n",
    "*******************\n",
    "\n",
    "<font  color=red>\n",
    "\n",
    "    \n",
    "WARNING:  You must ensure that the statement(s) modify a variable so that the condition has the chance to become false.  If not, you have an **Infinite loop**.\n",
    "\n",
    "*******************\n",
    "</font>\n",
    "\n",
    "\n",
    "\n",
    "For example:"
   ]
  },
  {
   "cell_type": "code",
   "execution_count": 8,
   "metadata": {},
   "outputs": [
    {
     "name": "stdout",
     "output_type": "stream",
     "text": [
      "The word 'mother' first occurs at position 82.\n"
     ]
    }
   ],
   "source": [
    "#  Read in the text\n",
    "with open('austen-emma-excerpt.txt') as f:\n",
    "    text = f.read()\n",
    "\n",
    "#  Convert the test to a list of words\n",
    "words = list(text.split())\n",
    "\n",
    "#  Loop through the positions and find where 'mother' occurs\n",
    "word_to_find = \"mother\"\n",
    "index = 0\n",
    "while words[index] != word_to_find:\n",
    "    index += 1\n",
    "\n",
    "print(\"The word '%s' first occurs at position %d.\" %(word_to_find, index))"
   ]
  },
  {
   "cell_type": "markdown",
   "metadata": {},
   "source": [
    "This example was actually a bit dangerous -- what if the word 'mother' was not in our excerpt.  The code would have been stuck in the loop.\n",
    "\n",
    "We can add another condition to the loop to handle that situation."
   ]
  },
  {
   "cell_type": "markdown",
   "metadata": {},
   "source": [
    "<font color=blue>---------------------------------------------------------------</font>\n",
    "\n",
    "### Activity: Adding a Second Condition to the While loop\n",
    "\n",
    "Modify the previous example so that it checks if `index` is less than `N` (the total number of words) as part of the while condition.\n",
    "\n",
    "Notice that we have two possibilities for ending the loop -- either the word was found or the loop reached the end of the word list.  \n",
    "\n",
    "After the loop, add a check to see which situation occurred.  If the loop reached the end of the word list, print that the word was not found; otherwise, print the statement that says where the word occurred.\n",
    "\n",
    "<font color=blue>---------------------------------------------------------------</font>\n"
   ]
  },
  {
   "cell_type": "markdown",
   "metadata": {},
   "source": [
    "\n",
    "\n",
    "### Activity: Looping until a Valid Input is Typed\n",
    "\n",
    "A classic use for `while` loops is to re-prompt users if they did not enter valid information.\n",
    "\n",
    "Write a code that will ask the user to enter the four-digit year that s/he was born.  If the input is incorrect (e.g., not a numeric value or not the full four digits, re-prompt the user for a correct input.\n",
    "\n",
    "<font color=blue>---------------------------------------------------------------</font>\n"
   ]
  }
 ],
 "metadata": {
  "anaconda-cloud": {},
  "kernelspec": {
   "display_name": "Python 3",
   "language": "python",
   "name": "python3"
  },
  "language_info": {
   "codemirror_mode": {
    "name": "ipython",
    "version": 3
   },
   "file_extension": ".py",
   "mimetype": "text/x-python",
   "name": "python",
   "nbconvert_exporter": "python",
   "pygments_lexer": "ipython3",
   "version": "3.7.3"
  }
 },
 "nbformat": 4,
 "nbformat_minor": 1
}
