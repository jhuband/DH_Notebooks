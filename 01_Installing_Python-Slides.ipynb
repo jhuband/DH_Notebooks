{
 "cells": [
  {
   "cell_type": "markdown",
   "metadata": {
    "slideshow": {
     "slide_type": "slide"
    }
   },
   "source": [
    "# Python for Digital Humanities\n",
    "\n",
    "## Unit #1:  Installing Python and Using the Editor\n",
    "\n",
    "### Anaconda\n",
    "\n",
    "\n",
    "We recommend, but do not require, the Anaconda distribution of Python. I\n",
    "t includes many useful Python packages, as well as tools for creating Python programs, like Spyder and Jupyter Notebooks.\n",
    "\n",
    "    \n",
    "<font color=blue>---------------------------------------------------------------</font>"
   ]
  },
  {
   "cell_type": "markdown",
   "metadata": {
    "slideshow": {
     "slide_type": "slide"
    }
   },
   "source": [
    "### Activity:  Installing  Anaconda\n",
    "\n",
    "\n",
    "To install Anaconda, \n",
    "* Go to https://www.anaconda.com/distribution/;\n",
    "* Click on the **Download** button -- it will take you to a section of the web page titled \"Anaconda Installers\"\n",
    "* In the column for the type of computer that you have (e.g., Mac), click on the 64-bit installer.  This will download an installer on your computer.\n",
    " * Finally, run the installer.  Detailed instructions are available at https://docs.continuum.io/anaconda/install/) .\n",
    "\n",
    "<font color=blue>---------------------------------------------------------------</font>\n"
   ]
  },
  {
   "cell_type": "markdown",
   "metadata": {
    "slideshow": {
     "slide_type": "slide"
    }
   },
   "source": [
    "### Spyder\n",
    "The Anaconda distribution of Python includes a graphical interface called Spyder.  Spyder includes an editor, where you can type in your Python code, and it allows you to run one or more lines of code to test the outcome.\n",
    "\n",
    "The\tdefault\tappearance of Spyder has three panes:  \n",
    "* the Editor Panel, where you can type your code;\t\n",
    "* the Explorer Panel, which has tabs at the bottom, including\n",
    "    * File explorer,  and\n",
    "    * Variable explorer\n",
    "* the iPython console, where results are written.\t\t\n",
    "\n",
    "We can use the menus bar to create a new file (File->new file) and to save it\t(File->Save\tas).\t\t \n",
    "\n",
    "We can type instructions for Python in either the editor pane of Spyder or the iPython console.  The editor pane is an editor -- it does not run the code until we tell it to run.  The iPython console perform the instruction as soon as we press Enter.  Basically, we can use the iPython Console as if it were a calculator.\n",
    "\n",
    "<font color=blue>---------------------------------------------------------------</font>\n",
    "  "
   ]
  },
  {
   "cell_type": "markdown",
   "metadata": {
    "slideshow": {
     "slide_type": "slide"
    }
   },
   "source": [
    "<img src=\"Spyder_GUI.png\" style=\"width: 800px\">\n",
    "\n",
    "<font color=blue>---------------------------------------------------------------</font>"
   ]
  },
  {
   "cell_type": "markdown",
   "metadata": {
    "slideshow": {
     "slide_type": "slide"
    }
   },
   "source": [
    "### Activity:  Run Spyder\n",
    "\n",
    "Bring up Spyder and identify the three panels.\n",
    "1. For the Explorer Panel, click on the `File explorer` tab.  What do you see?\n",
    "\n",
    "2. In the Editor Panel, type \n",
    "`print(\"Hello World\")`\n",
    "and save the file as `myProg.py`.  Look in the File explorer.  Do you see the file listed?\n",
    "\n",
    "3. Click on the green arrow in the menu bar above the Editor Panel.  What happened?\n",
    "\n",
    "<font color=blue>---------------------------------------------------------------</font>"
   ]
  }
 ],
 "metadata": {
  "anaconda-cloud": {},
  "kernelspec": {
   "display_name": "Python 3",
   "language": "python",
   "name": "python3"
  },
  "language_info": {
   "codemirror_mode": {
    "name": "ipython",
    "version": 3
   },
   "file_extension": ".py",
   "mimetype": "text/x-python",
   "name": "python",
   "nbconvert_exporter": "python",
   "pygments_lexer": "ipython3",
   "version": "3.7.3"
  }
 },
 "nbformat": 4,
 "nbformat_minor": 2
}
