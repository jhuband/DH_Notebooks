{
 "cells": [
  {
   "cell_type": "markdown",
   "metadata": {},
   "source": [
    "## Unit #10  Misc. Topics\n",
    "\n",
    "* Overview\n",
    "* More Practice with Functions\n",
    "* Timing our Code\n",
    "* Creating our own Modules\n",
    "\n",
    "<font color=blue>---------------------------------------------------------------</font>"
   ]
  },
  {
   "cell_type": "markdown",
   "metadata": {},
   "source": [
    "## 10.1 More Practice with Functions\n",
    "\n",
    "\n",
    "## Activity: Adding a Function to Existing Code\n",
    "\n",
    "Earlier, we looked at writing a program to output the counts for several words.  \n",
    "Take that program (called _Wednesday_activity.py_ in Collab under DH Learning Python Resources > Codes) and create a function that will read a file and perform the pre-processing activities.\n",
    "\n",
    "\n",
    "<font color=blue>---------------------------------------------------------------</font>"
   ]
  },
  {
   "cell_type": "markdown",
   "metadata": {},
   "source": [
    "## 10.2 Timing our Code\n",
    "\n",
    "\n",
    "So far, we have worked with small text files, so that the programs can run very quickly.  But, what happens as we increase size of our text files?  How long would it take to read the file and pre-process it?\n",
    "\n",
    "We can determine how long a chunk of code takes to run by capturing a computer time before running the chunk and again after running the chunk.  The difference in those two times will give us an estimate.\n",
    "\n",
    "```\n",
    "import time\n",
    ". . .\n",
    "start_time = time.time()\n",
    ". . .  # Run some code here\n",
    "stop_time = time.time()\n",
    "\n",
    "elapsed_time = stop_time - start_time\n",
    "print(\"The elapsed time is {:8.5f}.\".format(elapsed_time)\n",
    "```\n",
    "\n",
    "Let's time how long it takes to read in \"emma_chapter_one.txt\" and do some pre-processing on it."
   ]
  },
  {
   "cell_type": "code",
   "execution_count": 18,
   "metadata": {},
   "outputs": [
    {
     "name": "stdout",
     "output_type": "stream",
     "text": [
      "0.04687380790710449\n"
     ]
    }
   ],
   "source": [
    "import nltk\n",
    "import time\n",
    "\n",
    "start_time = time.time()\n",
    "#-----\n",
    "with open(\"emma_chapter_one.txt\") as f:\n",
    "    raw_text = f.read()\n",
    "text = nltk.word_tokenize(raw_text.lower())\n",
    "#-----\n",
    "stop_time = time.time()\n",
    "elapsed = stop_time - start_time\n",
    "print(elapsed)"
   ]
  },
  {
   "cell_type": "markdown",
   "metadata": {},
   "source": [
    "Note:  The time will vary from run to run and from computer to computer.  To get a better estimate, we usually average how long it takes for 3-5 runs.\n",
    "\n",
    "We also will need to run the code for different sizes of data."
   ]
  },
  {
   "cell_type": "code",
   "execution_count": 25,
   "metadata": {},
   "outputs": [
    {
     "name": "stdout",
     "output_type": "stream",
     "text": [
      "0.04767231941223145\n"
     ]
    }
   ],
   "source": [
    "import nltk\n",
    "import time\n",
    "\n",
    "elapsed = 0\n",
    "num_runs = 5\n",
    "start_time = time.time()\n",
    "#------\n",
    "for i in range(num_runs):\n",
    "    #-----\n",
    "    with open(\"emma_chapter_one.txt\") as f:\n",
    "        raw_text = f.read()\n",
    "    text = nltk.word_tokenize(raw_text.lower())\n",
    "#-----\n",
    "stop_time = time.time()\n",
    "elapsed = stop_time - start_time\n",
    "print(elapsed/num_runs)"
   ]
  },
  {
   "cell_type": "markdown",
   "metadata": {},
   "source": [
    "## 10.3 Creating our own Modules\n",
    "\n",
    "When we use \"import\" in our code, we are telling Python to load functions from another file.\n",
    "The beauty of this is that we can create modules with our own functions so that we don't have to keep copying and pasting the function definitions into new programs.\n",
    "\n",
    "To do this, we simply place our functions in another file (e.g., my_tools.py).  NOTE:  It is very important that you give the file the \".py\" extension.  Then, in your code, you would include the line \n",
    "```\n",
    "import my_tools\n",
    "```\n",
    "This line will load all of the functions that you have put into the \"my_tools.py\" file.  To access those functions, you simply type `my_tools.` before the function name.\n",
    "\n",
    "<font color=blue>---------------------------------------------------------------</font>"
   ]
  },
  {
   "cell_type": "markdown",
   "metadata": {},
   "source": [
    "\n",
    "## Activity: Creating a Module\n",
    "\n",
    "Earlier, we looked at writing a module `mytools` in which we included a function read_file().  Let's expands on that by including another function in the file.  You can call the function whatever you want, but the function should accept a filename as an input parameter and return a bag of words that have stop words removed.\n",
    "\n",
    "When that is done, create a Python program that will read in the file \"emma_chapter_one.txt\" and uses the new function in  \"mytools\" to convert the text to a bag of words.  Then, print the length of the bag of words to the screen.\n",
    "\n",
    "\n",
    "<font color=blue>---------------------------------------------------------------</font>"
   ]
  },
  {
   "cell_type": "markdown",
   "metadata": {},
   "source": [
    "### An Aside\n",
    "\n",
    "How can we capture the results that are displayed to our console in Spyder?\n",
    "\n",
    "Suppose your program is in a file called _myProg.py_ and you want to save the results in a file called _results_1.out_.  Then, in the iPython console, type `!python myProg.py > results_1.out`"
   ]
  },
  {
   "cell_type": "code",
   "execution_count": null,
   "metadata": {},
   "outputs": [],
   "source": []
  }
 ],
 "metadata": {
  "kernelspec": {
   "display_name": "Python 3",
   "language": "python",
   "name": "python3"
  },
  "language_info": {
   "codemirror_mode": {
    "name": "ipython",
    "version": 3
   },
   "file_extension": ".py",
   "mimetype": "text/x-python",
   "name": "python",
   "nbconvert_exporter": "python",
   "pygments_lexer": "ipython3",
   "version": "3.7.3"
  }
 },
 "nbformat": 4,
 "nbformat_minor": 2
}
