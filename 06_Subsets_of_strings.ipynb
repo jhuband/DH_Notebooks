{
 "cells": [
  {
   "cell_type": "markdown",
   "metadata": {},
   "source": [
    "# Python for Digital Humanities"
   ]
  },
  {
   "cell_type": "markdown",
   "metadata": {},
   "source": [
    "## Unit #6: Subsets of Strings\n",
    "\n",
    "* Strings as Collections of Characters\n",
    "* String Indexing\n",
    "* String Slicing\n",
    "* Indexing from the End of a String\n",
    "* Short-cut Notatoin\n",
    "\n",
    "<font color=blue>---------------------------------------------------------------</font>"
   ]
  },
  {
   "cell_type": "markdown",
   "metadata": {},
   "source": [
    "\n",
    "## 6.1 Strings as a Collection of Characters\n",
    "\n",
    "Suppose that we have a variable, `movie`, that holds a string.  For example:\n",
    "```\n",
    "movie = \"Stalag 17\"\n",
    "```\n",
    "The string `\"Stalag 17\"` is a collection of letters, digits, and a space.  We can refer to the collection generically as _characters_, where a character can be a letter, digit, space, or even a symbol (e.g., #, &, !).\n",
    "\n",
    "One of the first things that we may want to know about a string is how many characters are in it.  We call this the _length_ of a string.  We can use the `len()` function to determine the length of a string.\n",
    "\n",
    "\n",
    "The line ```print(len(movie))``` will print the total number of characters that are in the `movie` string.\n",
    "\n",
    "\n",
    "\n"
   ]
  },
  {
   "cell_type": "code",
   "execution_count": 12,
   "metadata": {},
   "outputs": [
    {
     "name": "stdout",
     "output_type": "stream",
     "text": [
      "9\n"
     ]
    }
   ],
   "source": [
    "movie = \"Stalag 17\"\n",
    "print(len(movie))"
   ]
  },
  {
   "cell_type": "markdown",
   "metadata": {},
   "source": [
    "### 6.2 String Indexing \n",
    "\n",
    "We also can say that a string is an _ordered_ collection of characters; that is, the order in which the characters appear is important.  The string `\"cat\"` has the same letters as the string `\"act\"`.  But obviously, the order in which the letters appear can give a very different meaning to the string.\n",
    "\n",
    "We can reference individual characters by using _indexing_.  The **index** refers to the position of the characters in the string.  Only, in Python, we count starting with zero.  So, the first character would be at index 0; the second character at index 1; and so on.\n"
   ]
  },
  {
   "cell_type": "code",
   "execution_count": 13,
   "metadata": {},
   "outputs": [
    {
     "name": "stdout",
     "output_type": "stream",
     "text": [
      "S\n",
      "l\n",
      "g\n"
     ]
    }
   ],
   "source": [
    "print(movie[0])\n",
    "print(movie[3])\n",
    "print(movie[5])"
   ]
  },
  {
   "cell_type": "markdown",
   "metadata": {},
   "source": [
    "\n",
    "<font color=blue>---------------------------------------------------------------</font>\n",
    "\n",
    "## Activity:  Printing Your Initials\n",
    "\n",
    "Create three variables that holds your name (e.g., `first`, `middle`, `last`).  If you don't have a middle name, you can use just your first and last names.  Write a line of code that will print your initials to the console.  For fun, write a line of code that will print the second letters in your name\n"
   ]
  },
  {
   "cell_type": "markdown",
   "metadata": {},
   "source": [
    "<font color=blue>---------------------------------------------------------------</font>\n",
    "\n",
    "### 6.3 String Slicing\n",
    "\n",
    "We also can specify a range of indices.  In programming, we call this _slicing_.  Think of it as taking a slice of the stirng.\n",
    "\n",
    "For example:\n",
    "```\n",
    "movie = \"Stalag 17\"\n",
    "movie[0:3]\n",
    "```\n",
    "would represent the substring `Sta`."
   ]
  },
  {
   "cell_type": "markdown",
   "metadata": {},
   "source": [
    "Notice that the range of indices actually specifies four values: 0, 1, 2, and 3.  But only three characters were represented: `S`,`t`,`a`.  Why is this?\n",
    "\n",
    "\n",
    "When specifying the range of numbers `0:3` Python starts at 0 and goes up to but **does not include** 3.  This feature can be confusing (even to seasoned programmers). \n",
    "\n",
    "In general,  `m:n` means that Python starts with `m` and goes to`n-1`.\n",
    "\n",
    "<font color=blue>---------------------------------------------------------------</font>\n",
    "\n",
    "## Activity:  Looking at Slices of a String\n",
    "\n",
    "Read into a variable `text` the file `emma_chapter_one.txt`.  Print the following subsets:\n",
    "\n",
    "i)    ```text[0:20]```\n",
    "\n",
    "ii)   ```text[20:25]```\n",
    "\n",
    "iii)  ```text[12:21]```"
   ]
  },
  {
   "cell_type": "markdown",
   "metadata": {},
   "source": [
    "<font color=blue>---------------------------------------------------------------</font>\n",
    "\n",
    "### 6.4 Indexing from the End of a String\n",
    "\n",
    "To find the last letter of a string,  we would have to go to the index that is one less than the length of the string.\n",
    "\n",
    "For example:\n",
    "```\n",
    "title = \"Harry Potter and the Chamber of Secrets\"\n",
    "N = len(title)\n",
    "print(title[N-1])\n",
    "```\n"
   ]
  },
  {
   "cell_type": "markdown",
   "metadata": {},
   "source": [
    "However, there is a shorthand notation.\n",
    "Instead of `N-1` we could use `-1`.\n",
    "\n",
    "This shorthand notation also works for the next to the last character (e.g., `-2`) and others.\n",
    "\n",
    "<font color=blue>---------------------------------------------------------------</font>\n",
    "\n",
    "## Activity:  Looking at Subsets of Strings\n",
    "\n",
    "Type in the following code to see the results:\n",
    "\n",
    "```\n",
    "Title = \"Harry Potter and the Chamber of Secrets\"\n",
    "print(Title[-1])\n",
    "print(Title[-2])\n",
    "print(Title[-5])\n",
    "```\n",
    "\n"
   ]
  },
  {
   "cell_type": "markdown",
   "metadata": {},
   "source": [
    "## Activity:  Word Challenge\n",
    "\n",
    "\n",
    "Create a variable that holds the word ```Chandler```; then, write a line of code that will save all of the middle letters to another variable called ```middle_letters```.  That is, ```middle_letters``` should have all of the letters except the first and last. \n",
    "\n",
    "Print `middle letters` to the console.\n",
    "\n"
   ]
  },
  {
   "cell_type": "markdown",
   "metadata": {},
   "source": [
    "<font color=blue>---------------------------------------------------------------</font>\n",
    "\n",
    "### 6.5 One More Short Cut\n",
    "\n",
    "Earlier, we talked about the range of values, ```0:3```.  But, the 0 index is optional.  We could write ```:3```.\n",
    "\n",
    "\n",
    " For example:\n",
    " ```\n",
    " Title = \"Harry Potter and the Chamber of Secrets\"\n",
    " print(Title[:8]\n",
    " ```"
   ]
  },
  {
   "cell_type": "markdown",
   "metadata": {},
   "source": [
    "\n",
    "Similarly, the end index is optional if we want to go to the end of the string.\n",
    "```\n",
    "print(Title[8:])\n",
    "```"
   ]
  },
  {
   "cell_type": "markdown",
   "metadata": {},
   "source": [
    "<font color=blue>---------------------------------------------------------------</font>\n",
    "\n",
    "## Activity:  Splitting a String in Half\n",
    "\n",
    "Using the string variable, `Title = \"Harry Potter and the Chamber of Secrets\"`, write a line of code that will assign the first half of the string to a variable called `half_string`.\n",
    "\n",
    "Hint: Use the ```len()``` function to determine the total number of characters.  Divide that number in half to find the half-way point.  Is there a problem if we have an old number of characters?\n",
    "\n",
    "\n",
    "\n",
    "\n"
   ]
  }
 ],
 "metadata": {
  "anaconda-cloud": {},
  "kernelspec": {
   "display_name": "Python 3",
   "language": "python",
   "name": "python3"
  },
  "language_info": {
   "codemirror_mode": {
    "name": "ipython",
    "version": 3
   },
   "file_extension": ".py",
   "mimetype": "text/x-python",
   "name": "python",
   "nbconvert_exporter": "python",
   "pygments_lexer": "ipython3",
   "version": "3.7.3"
  }
 },
 "nbformat": 4,
 "nbformat_minor": 1
}
